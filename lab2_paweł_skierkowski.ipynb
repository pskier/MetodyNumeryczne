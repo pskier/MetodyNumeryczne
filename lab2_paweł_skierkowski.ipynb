{
 "cells": [
  {
   "cell_type": "markdown",
   "id": "69b87eac-3cc6-433c-ae8c-faee63f5afe9",
   "metadata": {},
   "source": [
    "# Sprawozdanie z lab 2\n",
    "## Paweł Skierkowski"
   ]
  },
  {
   "cell_type": "markdown",
   "id": "063ae458-123e-4df0-b57e-028028bb768a",
   "metadata": {},
   "source": [
    "## **METODA JACOBIEGO**\n",
    "Metoda Jacobiego służy do rozwiązywania układów równań liniowych w postaci:\n",
    "\n",
    "$$\n",
    "A \\mathbf{x} = \\mathbf{b}\n",
    "$$\n",
    "\n",
    "## Kroki:\n",
    "1. Inicjalizacja przybliżenia początkowego x0\n",
    "2. Obliczanie nowej wartości przy użyciu wzoru iteracyjnego\n",
    "3. Sprawdzenie warunku zbieżności\n",
    "   \n",
    "**Zalety:**\n",
    "- Łatwa do zaimplementowania\n",
    "- Równoległa\n",
    "\n",
    "**Wady:**\n",
    "- Może nie zbiegać dla dowolnej macierzy\n",
    "\n",
    "\n",
    "\n",
    "Aby algorytm Jacobiego był zbieżny, macierz A musi mieć silnie dominującą diagonalę\n",
    "### KOD:"
   ]
  },
  {
   "cell_type": "code",
   "execution_count": 53,
   "id": "42a507dc-05ec-4559-907a-05f65ccadbbe",
   "metadata": {},
   "outputs": [],
   "source": [
    "import numpy as np\n",
    "import matplotlib.pyplot as plt\n",
    "import time\n",
    "\n",
    "def jacobi(A, b, x0, tol=1e-10, max_i=1000):\n",
    "    n = len(A)\n",
    "    x = x0.copy()\n",
    "    x_new = x0.copy()\n",
    "    iteracje = 0\n",
    "    for k in range(max_i):\n",
    "        for i in range(n):\n",
    "            s = sum(A[i][j]*x[j] for j in range(n) if j != i)\n",
    "            x_new[i] = (b[i] - s) / A[i][i]\n",
    "        if np.linalg.norm(x_new - x, np.inf) < tol:\n",
    "            break\n",
    "        x = x_new.copy()\n",
    "        iteracje += 1\n",
    "    return x, iteracje"
   ]
  },
  {
   "cell_type": "markdown",
   "id": "86c1d3d3-c230-4e72-b439-c39f0e0e5e3a",
   "metadata": {},
   "source": [
    "## **METODA GAUSSA-SEIDLA**\n",
    "Metoda Gaussa-Seidla różni się od metody Jacobiego tym, że podczas każdej iteracji wykorzystuje natychmiast najnowsze dostępne wartości zmiennych.\n",
    "\n",
    "Podobnie do metody Jacobiego warunkiem zbieżności metody Gaussa-Seidela jest macierz diagonalnie dominująca lub symetryczna dodatnio określona, jednak może działać w szerszym zakresie i jest szybsza wykorzystując nadpisywanie wektora i korzystania z nowszych wyników.\n",
    "\n",
    "## Kroki:\n",
    "1. zaczynamy od przybliżenia x0\n",
    "2. obliczanie nowej wartości wykorzystując dane z bierzącej i poprzedniej iteracji\n",
    "3. sprawdzenie warunku zbieżności\n",
    "\n",
    "**Zalety:**\n",
    "- Szybsza zbieżność niż Jacobiego w wielu przypadkach\n",
    "- Mniejsza potrzeba pamięci (nie trzeba przechowywać osobnego x_new)\n",
    "- Prostsza logika dla macierzy, które są dobrze uwarunkowane\n",
    "\n",
    "**Wady:**\n",
    "- Trudna do zrównoleglenia (ponieważ kolejność ma znaczenie)\n",
    "- Może nie zbiegać się dla niektórych macierzy\n",
    "\n",
    "### KOD:"
   ]
  },
  {
   "cell_type": "code",
   "execution_count": 56,
   "id": "7f98a255-14ab-47c5-8d49-e61be72c1ed8",
   "metadata": {},
   "outputs": [],
   "source": [
    "def gauss_seidel(A, b, x0, tol=1e-10, max_iter=1000):\n",
    "    n = len(A)\n",
    "    x = x0.copy()\n",
    "    iteracje = 0\n",
    "    for k in range(max_iter):\n",
    "        x_old = x.copy()\n",
    "        for i in range(n):\n",
    "            s1 = sum(A[i][j]*x[j] for j in range(i))\n",
    "            s2 = sum(A[i][j]*x_old[j] for j in range(i+1, n))\n",
    "            x[i] = (b[i] - s1 - s2) / A[i][i]\n",
    "        if np.linalg.norm(x - x_old, np.inf) < tol:\n",
    "            break\n",
    "        iteracje += 1\n",
    "    return x, iteracje"
   ]
  },
  {
   "cell_type": "markdown",
   "id": "3320647f-b224-48ff-8987-2c2b9996ae83",
   "metadata": {},
   "source": [
    "# Wyniki działania"
   ]
  },
  {
   "cell_type": "code",
   "execution_count": 75,
   "id": "47b5df93-761d-4490-ab44-794cd6b6e203",
   "metadata": {},
   "outputs": [
    {
     "name": "stdout",
     "output_type": "stream",
     "text": [
      "Jacobi: 3 iteracji, czas: 0.001016378402709961\n",
      "Gauss-Seidel: 2 iteracji, czas: 0.0\n"
     ]
    }
   ],
   "source": [
    "A = np.array([[4.0, -1.0, 0.0, 0.0],\n",
    "              [-1.0, 4.0, -1.0, 0.0],\n",
    "              [0.0, -1.0, 4.0, -1.0],\n",
    "              [0.0, 0.0, -1.0, 3.0]])\n",
    "b = np.array([15, 10, 10, 10])\n",
    "x0 = np.zeros_like(b)\n",
    "\n",
    "start = time.time()\n",
    "x_jacobi, iter_jacobi = jacobi(A, b, x0)\n",
    "time_jacobi = time.time() - start\n",
    "\n",
    "start = time.time()\n",
    "x_gs, iter_gs = gauss_seidel(A, b, x0)\n",
    "time_gs = time.time() - start\n",
    "\n",
    "print(\"Jacobi:\", iter_jacobi, \"iteracji, czas:\", time_jacobi)\n",
    "print(\"Gauss-Seidel:\", iter_gs, \"iteracji, czas:\", time_gs)"
   ]
  },
  {
   "cell_type": "code",
   "execution_count": 71,
   "id": "694fb2e5-eaa5-495c-973e-76065a1aa67c",
   "metadata": {},
   "outputs": [
    {
     "name": "stdout",
     "output_type": "stream",
     "text": [
      "macierz dobrze uwarunkowana\n",
      "Jacobi: 18 iteracji, czas: 0.0\n",
      "Gauss-Seidel: 9 iteracji, czas: 0.0\n",
      "macierz słabo uwarunkowana\n",
      "Jacobi: 1000 iteracji, czas: 0.017139434814453125\n",
      "Gauss-Seidel: 1000 iteracji, czas: 0.021492481231689453\n"
     ]
    }
   ],
   "source": [
    "#macierz dobrze uwarunkowana\n",
    "A2 = np.array([[10, -1, 2],\n",
    "              [-1, 11, -1],\n",
    "              [2, -1, 10]], dtype=float)\n",
    "\n",
    "b2 = np.array([6, 25, -11], dtype=float)\n",
    "x02 = np.zeros_like(b2)\n",
    "#macierz słabo uwarunkowana\n",
    "A = np.array([[1.0, 1/2, 1/3],\n",
    "              [1/2, 1/3, 1/4],\n",
    "              [1/3, 1/4, 1/5]])\n",
    "\n",
    "b3 = np.array([1, 1, 1], dtype=float)\n",
    "x03 = np.zeros_like(b3)\n",
    "\n",
    "start = time.time()\n",
    "x_jacobi2, iter_jacobi2 = jacobi(A2, b2, x02)\n",
    "time_jacobi2 = time.time() - start\n",
    "\n",
    "start = time.time()\n",
    "x_gs2, iter_gs2 = gauss_seidel(A2, b2, x02)\n",
    "time_gs2 = time.time() - start\n",
    "\n",
    "start = time.time()\n",
    "x_jacobi3, iter_jacobi3 = jacobi(A3, b3, x03)\n",
    "time_jacobi3 = time.time() - start\n",
    "\n",
    "start = time.time()\n",
    "x_gs3, iter_gs3 = gauss_seidel(A3, b3, x03)\n",
    "time_gs3 = time.time() - start\n",
    "\n",
    "print(\"macierz dobrze uwarunkowana\")\n",
    "print(\"Jacobi:\", iter_jacobi2, \"iteracji, czas:\", time_jacobi2)\n",
    "print(\"Gauss-Seidel:\", iter_gs2, \"iteracji, czas:\", time_gs2)\n",
    "\n",
    "print(\"macierz słabo uwarunkowana\")\n",
    "print(\"Jacobi:\", iter_jacobi3, \"iteracji, czas:\", time_jacobi3)\n",
    "print(\"Gauss-Seidel:\", iter_gs3, \"iteracji, czas:\", time_gs3)\n"
   ]
  },
  {
   "cell_type": "markdown",
   "id": "e1c5daa2-e005-4291-a908-c51dfa213df6",
   "metadata": {},
   "source": [
    "## Podsumowanie\n",
    "Jak widać metoda Gaussa-Seidla działa szybciej, lub w podobnym czasie wykonując przy tym mniej iteracji. Równoległość w metodzie Jacobiego pozwala na jednoczesne obliczanie wszystkich nowych przybliżeń niewiadomych. Metoda Gaussa-Seidela wykorzystuje najnowsze dostępne wartości w trakcie jednej iteracji, co zwykle przyspiesza zbieżność."
   ]
  }
 ],
 "metadata": {
  "kernelspec": {
   "display_name": "Python 3 (ipykernel)",
   "language": "python",
   "name": "python3"
  },
  "language_info": {
   "codemirror_mode": {
    "name": "ipython",
    "version": 3
   },
   "file_extension": ".py",
   "mimetype": "text/x-python",
   "name": "python",
   "nbconvert_exporter": "python",
   "pygments_lexer": "ipython3",
   "version": "3.12.4"
  }
 },
 "nbformat": 4,
 "nbformat_minor": 5
}
