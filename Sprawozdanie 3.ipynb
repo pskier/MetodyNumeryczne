{
 "cells": [
  {
   "cell_type": "markdown",
   "id": "4dbdd374-ce79-40da-84f1-1cc191fe4917",
   "metadata": {},
   "source": [
    "# Analiza współczynnika uwarunkowania macierzy\n",
    "Paweł Skierkowski\n",
    "\n",
    "Wyznaczanie współczynnika uwarunkowania macierzy metodą potęgową"
   ]
  },
  {
   "cell_type": "code",
   "execution_count": 281,
   "id": "37e9a8be-8911-4fb4-a6b5-51ea41de4fb3",
   "metadata": {},
   "outputs": [],
   "source": [
    "import numpy as np\r",
    "from scipy.linalg import hilbert"
   ]
  },
  {
   "cell_type": "markdown",
   "id": "f28a98cf-e7bd-4496-b252-116cc81a790b",
   "metadata": {},
   "source": [
    "## Zadanie 1:\n",
    "### Metoda potęgowa:"
   ]
  },
  {
   "cell_type": "code",
   "execution_count": 244,
   "id": "be5eaf74-6359-4440-bf15-f4f126fbb592",
   "metadata": {},
   "outputs": [],
   "source": [
    "def m_potegowa(C):\n",
    "    t = np.ones(C.shape[0])\n",
    "    t = t / np.linalg.norm(t, ord=np.inf)\n",
    "    l_old = 0\n",
    "\n",
    "    while True:\n",
    "        t = C @ t\n",
    "        t = t / np.linalg.norm(t, ord=np.inf)\n",
    "        l_new = (t.T @ C @ t)/(t.T@t)\n",
    "        error = abs(l_new - l_old)\n",
    "        if error < 1e-6:\n",
    "            break\n",
    "        l_old = l_new\n",
    "        \n",
    "    return l_new\n"
   ]
  },
  {
   "cell_type": "markdown",
   "id": "3e35cf19-e124-4351-80b7-f71e8cc8e8d4",
   "metadata": {},
   "source": [
    "### Wyznaczanie maksymalnej wartości własnej:"
   ]
  },
  {
   "cell_type": "code",
   "execution_count": 247,
   "id": "dab94029-87d9-4f40-97b9-317359480876",
   "metadata": {},
   "outputs": [],
   "source": [
    "def lam_max(C):\n",
    "    return m_potegowa(C)"
   ]
  },
  {
   "cell_type": "markdown",
   "id": "970937b4-1310-491e-97e1-6d6a15a41b55",
   "metadata": {},
   "source": [
    "### Wyznaczanie minimalnej wartości własnej stosując przesunięcie:"
   ]
  },
  {
   "cell_type": "code",
   "execution_count": 294,
   "id": "6ea7dbba-b535-4713-b74b-24cd57550b70",
   "metadata": {},
   "outputs": [],
   "source": [
    "def lam_min(A,l):\n",
    "    B=A-l*np.eye(A.shape[0])\n",
    "    l_min=m_potegowa(B)\n",
    "    return l_min+l"
   ]
  },
  {
   "cell_type": "markdown",
   "id": "408aead5-539d-4966-ab55-e9ec600ee765",
   "metadata": {},
   "source": [
    "### Wyznaczanie współczynnika uwarunkowania:"
   ]
  },
  {
   "cell_type": "code",
   "execution_count": 253,
   "id": "cc7448d6-46c9-41c2-b69c-1b2f4806cd93",
   "metadata": {},
   "outputs": [],
   "source": [
    "def cond(C):\n",
    "    A = C.T @ C\n",
    "    lam_max_val = lam_max(A)\n",
    "    lam_min_val = lam_min(A, lam_max_val)\n",
    "    return np.sqrt(lam_max_val / lam_min_val)\n",
    "    "
   ]
  },
  {
   "cell_type": "markdown",
   "id": "cab96a82-2f89-4c53-876d-63a119df57f6",
   "metadata": {},
   "source": [
    "### Porównanie wyników z wbudowaną funkcją:"
   ]
  },
  {
   "cell_type": "code",
   "execution_count": 256,
   "id": "84f81982-f9d1-43b8-9b2f-868411b37eda",
   "metadata": {},
   "outputs": [],
   "source": [
    "def comp(A):\n",
    "    implemented = cond(A)\n",
    "    included = np.linalg.cond(A)\n",
    "    difference = abs(implemented - included) / included * 100\n",
    "    return implemented, included, difference"
   ]
  },
  {
   "cell_type": "markdown",
   "id": "c0d27991-bda1-4b4a-b1f9-6013146e006d",
   "metadata": {},
   "source": [
    "### Wyznaczenie współczynnika oraz różnic pomiedzy metodami na podstawie macierzy C z podręcznika"
   ]
  },
  {
   "cell_type": "code",
   "execution_count": 259,
   "id": "518e59d6-681e-4108-98f8-748a4186474b",
   "metadata": {},
   "outputs": [
    {
     "name": "stdout",
     "output_type": "stream",
     "text": [
      "Wyliczony współczynnik: 6.43169731895808\n",
      "Wbudowana funckja: 6.4316983882385355\n",
      "Różnica pomiędzy metodami: 0.00001663%\n"
     ]
    }
   ],
   "source": [
    "C = np.array([\n",
    "    [4,2,-5,2],\n",
    "    [1,5,3,9],\n",
    "    [2,2,5,-7],\n",
    "    [1,4,-1,1]\n",
    "])\n",
    "implemented,included,difference=comp(C)\n",
    "\n",
    "print(f\"Wyliczony współczynnik: {implemented}\")\n",
    "print(f\"Wbudowana funckja: {included}\")\n",
    "print(f\"Różnica pomiędzy metodami: {difference:.8f}%\")"
   ]
  },
  {
   "cell_type": "markdown",
   "id": "9070c9aa-e9d4-46f5-be41-1698e8d813f9",
   "metadata": {},
   "source": [
    "### Podsumowanie zadania 1:\n",
    "Otrzymane wyniki są niemal identyczne, różnica pomiedzy zaimplementowaną metodą m_potegowa, a metodą z biblioteki numpy jest nieznaczna dla podanej macierzy."
   ]
  },
  {
   "cell_type": "markdown",
   "id": "ae9b7d65-117d-48ca-bfd6-5a97e6bd3524",
   "metadata": {},
   "source": [
    "## Zadanie 2:\n",
    "### Wpływ właściwości macierzy (rodzaj, rozmiar) na efektywność metody:"
   ]
  },
  {
   "cell_type": "code",
   "execution_count": 291,
   "id": "cdbbe693-209b-4501-9211-ad9393f3e700",
   "metadata": {},
   "outputs": [
    {
     "name": "stdout",
     "output_type": "stream",
     "text": [
      "\n",
      "Macierz: Symetryczna 4x4\n",
      "  Wyliczony cond:    8.44118701\n",
      "  Wbudowana cond:    8.44120150\n",
      "  Różnica:           0.000172%\n",
      "\n",
      "Macierz: Niesymetryczna 4x4\n",
      "  Wyliczony cond:    4.96799495\n",
      "  Wbudowana cond:    4.96801960\n",
      "  Różnica:           0.000496%\n",
      "\n",
      "Macierz: Losowa 5x5\n",
      "  Wyliczony cond:    26.06577106\n",
      "  Wbudowana cond:    26.13153834\n",
      "  Różnica:           0.251678%\n",
      "\n",
      "Macierz: Diagonalna 4x4\n",
      "  Wyliczony cond:    997.48510786\n",
      "  Wbudowana cond:    1000.00000000\n",
      "  Różnica:           0.251489%\n",
      "\n",
      "Macierz: Symetryczna 50x50\n",
      "  Wyliczony cond:    157.31879812\n",
      "  Wbudowana cond:    660.02383851\n",
      "  Różnica:           76.164679%\n",
      "\n",
      "Macierz: Niesymetryczna 50x50\n",
      "  Wyliczony cond:    363.19968527\n",
      "  Wbudowana cond:    7057.05480733\n",
      "  Różnica:           94.853382%\n",
      "\n",
      "Macierz: Hilberta 5x5\n",
      "  Wyliczony cond:    126.73711652\n",
      "  Wbudowana cond:    476607.25024100\n",
      "  Różnica:           99.973408%\n",
      "\n",
      "Macierz: Hilberta 50x50\n",
      "  Wyliczony cond:    79.14662308\n",
      "  Wbudowana cond:    17175883540120668160.00000000\n",
      "  Różnica:           100.000000%\n"
     ]
    }
   ],
   "source": [
    "R = np.random.rand(50, 50)\n",
    "A_sym = (R + R.T) / 2\n",
    "\n",
    "matrices = {\n",
    "    \"Symetryczna 4x4\": np.array([\n",
    "        [4, 1, 2, 0],\n",
    "        [1, 3, 0, 1],\n",
    "        [2, 0, 5, 1],\n",
    "        [0, 1, 1, 2]\n",
    "    ]),\n",
    "    \"Niesymetryczna 4x4\": np.array([\n",
    "        [2, -1, 0, 3],\n",
    "        [0, 1, 4, 0],\n",
    "        [1, 0, 2, -1],\n",
    "        [1, 1, 1, 1]\n",
    "    ]),\n",
    "    \"Losowa 5x5\": np.random.rand(5, 5),\n",
    "    \"Diagonalna 4x4\": np.diag([1, 10, 100, 1000]),\n",
    "    \"Symetryczna 50x50\": A_sym,\n",
    "    \"Niesymetryczna 50x50\": np.random.rand(50,50),\n",
    "    \"Hilberta 5x5\": hilbert(5),\n",
    "    \"Hilberta 50x50\": hilbert(50)\n",
    "}\n",
    "for name, A in matrices.items():\n",
    "    implemented, included, diff = comp(A)\n",
    "    print(f\"\\nMacierz: {name}\")\n",
    "    print(f\"  Wyliczony cond:    {implemented:.8f}\")\n",
    "    print(f\"  Wbudowana cond:    {included:.8f}\")\n",
    "    print(f\"  Różnica:           {diff:.6f}%\")"
   ]
  },
  {
   "cell_type": "markdown",
   "id": "3342e2f8-250e-4bf3-afac-69c7404a2f3b",
   "metadata": {},
   "source": [
    "### Wnioski:\n",
    "Dla macierzy niewielkich obie metody dają podobne wyniki. \n",
    "\n",
    "Dla macierzy o większych rozmiarach (50x50) różnica staję się zdecydowaie większa, zaimplementowana metoda działa jednak lepiej dla macierzy symetrycznych niż niesymetrycznych.\n",
    "\n",
    "Dla macierzy Hilberta - zarówno dużej jak i małej - zaimplementowana metoda potęgowa nie pozwala dokładnie wyznaczyć uwarunkowania. Macierz Hilberta jest bardzo źle uwarunkowana. "
   ]
  },
  {
   "cell_type": "code",
   "execution_count": null,
   "id": "fe0c9f19-5c4d-4bd1-b869-3605e271366d",
   "metadata": {},
   "outputs": [],
   "source": []
  }
 ],
 "metadata": {
  "kernelspec": {
   "display_name": "Python 3 (ipykernel)",
   "language": "python",
   "name": "python3"
  },
  "language_info": {
   "codemirror_mode": {
    "name": "ipython",
    "version": 3
   },
   "file_extension": ".py",
   "mimetype": "text/x-python",
   "name": "python",
   "nbconvert_exporter": "python",
   "pygments_lexer": "ipython3",
   "version": "3.12.3"
  }
 },
 "nbformat": 4,
 "nbformat_minor": 5
}
